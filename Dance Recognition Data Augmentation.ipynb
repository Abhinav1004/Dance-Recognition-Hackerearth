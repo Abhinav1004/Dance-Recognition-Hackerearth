{
 "cells": [
  {
   "cell_type": "code",
   "execution_count": 1,
   "metadata": {},
   "outputs": [],
   "source": [
    "import os\n",
    "import pandas as pd\n",
    "import shutil"
   ]
  },
  {
   "cell_type": "code",
   "execution_count": 2,
   "metadata": {},
   "outputs": [],
   "source": [
    "DATA_DIR = os.path.join(os.getcwd(),\"augmented_data\")"
   ]
  },
  {
   "cell_type": "code",
   "execution_count": 3,
   "metadata": {},
   "outputs": [],
   "source": [
    "if not os.path.exists(DATA_DIR):\n",
    "    os.makedirs(DATA_DIR)"
   ]
  },
  {
   "cell_type": "code",
   "execution_count": 4,
   "metadata": {},
   "outputs": [],
   "source": [
    "data_train = pd.read_csv(os.path.join(os.getcwd(),\"train.csv\"))\n",
    "data_test = pd.read_csv(os.path.join(os.getcwd(),\"test.csv\"))"
   ]
  },
  {
   "cell_type": "code",
   "execution_count": 5,
   "metadata": {},
   "outputs": [],
   "source": [
    "data_train['Image'] = data_train['Image'].apply(lambda x:os.path.join(os.getcwd(),\"dataset\",\"train\",x))\n",
    "data_test['Image'] = data_test['Image'].apply(lambda x:os.path.join(os.getcwd(),\"dataset\",\"test\",x))"
   ]
  },
  {
   "cell_type": "code",
   "execution_count": 6,
   "metadata": {},
   "outputs": [
    {
     "name": "stdout",
     "output_type": "stream",
     "text": [
      "The number of training images is  364\n",
      "The number of testing images is  156\n"
     ]
    }
   ],
   "source": [
    "print(\"The number of training images is \",data_train.shape[0])\n",
    "print(\"The number of testing images is \",data_test.shape[0])"
   ]
  },
  {
   "cell_type": "code",
   "execution_count": 7,
   "metadata": {
    "scrolled": true
   },
   "outputs": [
    {
     "data": {
      "text/plain": [
       "Index(['mohiniyattam', 'odissi', 'kathakali', 'bharatanatyam', 'kuchipudi',\n",
       "       'sattriya', 'kathak', 'manipuri'],\n",
       "      dtype='object')"
      ]
     },
     "execution_count": 7,
     "metadata": {},
     "output_type": "execute_result"
    }
   ],
   "source": [
    "data_train['target'].value_counts().index"
   ]
  },
  {
   "cell_type": "code",
   "execution_count": 8,
   "metadata": {},
   "outputs": [],
   "source": [
    "dance_dist = list()\n",
    "for idx,num_files in enumerate(data_train['target'].value_counts()):\n",
    "    dance_dist.append({\n",
    "        \"DanceName\":data_train['target'].value_counts().index[idx],\n",
    "        \"NumFiles\":num_files\n",
    "    })\n",
    "dance_dist = pd.DataFrame(dance_dist)\n"
   ]
  },
  {
   "cell_type": "code",
   "execution_count": 9,
   "metadata": {},
   "outputs": [
    {
     "data": {
      "text/html": [
       "<div>\n",
       "<style scoped>\n",
       "    .dataframe tbody tr th:only-of-type {\n",
       "        vertical-align: middle;\n",
       "    }\n",
       "\n",
       "    .dataframe tbody tr th {\n",
       "        vertical-align: top;\n",
       "    }\n",
       "\n",
       "    .dataframe thead th {\n",
       "        text-align: right;\n",
       "    }\n",
       "</style>\n",
       "<table border=\"1\" class=\"dataframe\">\n",
       "  <thead>\n",
       "    <tr style=\"text-align: right;\">\n",
       "      <th></th>\n",
       "      <th>DanceName</th>\n",
       "      <th>NumFiles</th>\n",
       "    </tr>\n",
       "  </thead>\n",
       "  <tbody>\n",
       "    <tr>\n",
       "      <th>0</th>\n",
       "      <td>mohiniyattam</td>\n",
       "      <td>50</td>\n",
       "    </tr>\n",
       "    <tr>\n",
       "      <th>1</th>\n",
       "      <td>odissi</td>\n",
       "      <td>49</td>\n",
       "    </tr>\n",
       "    <tr>\n",
       "      <th>2</th>\n",
       "      <td>kathakali</td>\n",
       "      <td>47</td>\n",
       "    </tr>\n",
       "    <tr>\n",
       "      <th>3</th>\n",
       "      <td>bharatanatyam</td>\n",
       "      <td>47</td>\n",
       "    </tr>\n",
       "    <tr>\n",
       "      <th>4</th>\n",
       "      <td>kuchipudi</td>\n",
       "      <td>46</td>\n",
       "    </tr>\n",
       "    <tr>\n",
       "      <th>5</th>\n",
       "      <td>sattriya</td>\n",
       "      <td>45</td>\n",
       "    </tr>\n",
       "    <tr>\n",
       "      <th>6</th>\n",
       "      <td>kathak</td>\n",
       "      <td>44</td>\n",
       "    </tr>\n",
       "    <tr>\n",
       "      <th>7</th>\n",
       "      <td>manipuri</td>\n",
       "      <td>36</td>\n",
       "    </tr>\n",
       "  </tbody>\n",
       "</table>\n",
       "</div>"
      ],
      "text/plain": [
       "       DanceName  NumFiles\n",
       "0   mohiniyattam        50\n",
       "1         odissi        49\n",
       "2      kathakali        47\n",
       "3  bharatanatyam        47\n",
       "4      kuchipudi        46\n",
       "5       sattriya        45\n",
       "6         kathak        44\n",
       "7       manipuri        36"
      ]
     },
     "execution_count": 9,
     "metadata": {},
     "output_type": "execute_result"
    }
   ],
   "source": [
    "dance_dist"
   ]
  },
  {
   "cell_type": "code",
   "execution_count": 10,
   "metadata": {},
   "outputs": [
    {
     "data": {
      "text/html": [
       "<div>\n",
       "<style scoped>\n",
       "    .dataframe tbody tr th:only-of-type {\n",
       "        vertical-align: middle;\n",
       "    }\n",
       "\n",
       "    .dataframe tbody tr th {\n",
       "        vertical-align: top;\n",
       "    }\n",
       "\n",
       "    .dataframe thead th {\n",
       "        text-align: right;\n",
       "    }\n",
       "</style>\n",
       "<table border=\"1\" class=\"dataframe\">\n",
       "  <thead>\n",
       "    <tr style=\"text-align: right;\">\n",
       "      <th></th>\n",
       "      <th>Image</th>\n",
       "      <th>target</th>\n",
       "    </tr>\n",
       "  </thead>\n",
       "  <tbody>\n",
       "    <tr>\n",
       "      <th>0</th>\n",
       "      <td>/home/abhinav/dance_recognition/dataset/train/...</td>\n",
       "      <td>manipuri</td>\n",
       "    </tr>\n",
       "    <tr>\n",
       "      <th>1</th>\n",
       "      <td>/home/abhinav/dance_recognition/dataset/train/...</td>\n",
       "      <td>bharatanatyam</td>\n",
       "    </tr>\n",
       "    <tr>\n",
       "      <th>2</th>\n",
       "      <td>/home/abhinav/dance_recognition/dataset/train/...</td>\n",
       "      <td>odissi</td>\n",
       "    </tr>\n",
       "    <tr>\n",
       "      <th>3</th>\n",
       "      <td>/home/abhinav/dance_recognition/dataset/train/...</td>\n",
       "      <td>kathakali</td>\n",
       "    </tr>\n",
       "    <tr>\n",
       "      <th>4</th>\n",
       "      <td>/home/abhinav/dance_recognition/dataset/train/...</td>\n",
       "      <td>odissi</td>\n",
       "    </tr>\n",
       "    <tr>\n",
       "      <th>5</th>\n",
       "      <td>/home/abhinav/dance_recognition/dataset/train/...</td>\n",
       "      <td>kathak</td>\n",
       "    </tr>\n",
       "    <tr>\n",
       "      <th>6</th>\n",
       "      <td>/home/abhinav/dance_recognition/dataset/train/...</td>\n",
       "      <td>sattriya</td>\n",
       "    </tr>\n",
       "    <tr>\n",
       "      <th>7</th>\n",
       "      <td>/home/abhinav/dance_recognition/dataset/train/...</td>\n",
       "      <td>kuchipudi</td>\n",
       "    </tr>\n",
       "    <tr>\n",
       "      <th>8</th>\n",
       "      <td>/home/abhinav/dance_recognition/dataset/train/...</td>\n",
       "      <td>sattriya</td>\n",
       "    </tr>\n",
       "    <tr>\n",
       "      <th>9</th>\n",
       "      <td>/home/abhinav/dance_recognition/dataset/train/...</td>\n",
       "      <td>kuchipudi</td>\n",
       "    </tr>\n",
       "  </tbody>\n",
       "</table>\n",
       "</div>"
      ],
      "text/plain": [
       "                                               Image         target\n",
       "0  /home/abhinav/dance_recognition/dataset/train/...       manipuri\n",
       "1  /home/abhinav/dance_recognition/dataset/train/...  bharatanatyam\n",
       "2  /home/abhinav/dance_recognition/dataset/train/...         odissi\n",
       "3  /home/abhinav/dance_recognition/dataset/train/...      kathakali\n",
       "4  /home/abhinav/dance_recognition/dataset/train/...         odissi\n",
       "5  /home/abhinav/dance_recognition/dataset/train/...         kathak\n",
       "6  /home/abhinav/dance_recognition/dataset/train/...       sattriya\n",
       "7  /home/abhinav/dance_recognition/dataset/train/...      kuchipudi\n",
       "8  /home/abhinav/dance_recognition/dataset/train/...       sattriya\n",
       "9  /home/abhinav/dance_recognition/dataset/train/...      kuchipudi"
      ]
     },
     "execution_count": 10,
     "metadata": {},
     "output_type": "execute_result"
    }
   ],
   "source": [
    "data_train.head(10)"
   ]
  },
  {
   "cell_type": "code",
   "execution_count": 11,
   "metadata": {},
   "outputs": [],
   "source": [
    "for i in range(data_train.shape[0]):\n",
    "    if not os.path.exists(os.path.join(DATA_DIR,data_train.iloc[i,1])):\n",
    "        os.makedirs(os.path.join(DATA_DIR,data_train.iloc[i,1]))\n",
    "    shutil.copy(data_train.iloc[i,0],os.path.join(DATA_DIR,data_train.iloc[i,1],data_train.iloc[i,0].split(\"/\")[-1]))"
   ]
  },
  {
   "cell_type": "code",
   "execution_count": 12,
   "metadata": {},
   "outputs": [],
   "source": [
    "# run the genData.py file in the current working directory"
   ]
  },
  {
   "cell_type": "code",
   "execution_count": 14,
   "metadata": {},
   "outputs": [],
   "source": [
    "DATA_DIR = os.path.join(os.getcwd(),\"augmented_data\")"
   ]
  },
  {
   "cell_type": "code",
   "execution_count": 16,
   "metadata": {},
   "outputs": [],
   "source": [
    "# creating the new train.csv\n",
    "\n",
    "def create_csv(DATA_DIR,filename):\n",
    "    data = list()\n",
    "    class_names = os.listdir(DATA_DIR)\n",
    "    for class_name in class_names:\n",
    "        file_names = os.listdir(os.path.join(DATA_DIR,class_name))\n",
    "        for file_name in file_names:\n",
    "            data.append({\n",
    "                \"FileName\":os.path.join(DATA_DIR,class_name,file_name),\n",
    "                \"ClassName\":class_name\n",
    "            })\n",
    "    data = pd.DataFrame(data)\n",
    "    data.to_csv(filename,index=False)\n",
    "\n",
    "create_csv(DATA_DIR,\"train_augmented.csv\")"
   ]
  },
  {
   "cell_type": "code",
   "execution_count": 17,
   "metadata": {},
   "outputs": [
    {
     "data": {
      "text/html": [
       "<div>\n",
       "<style scoped>\n",
       "    .dataframe tbody tr th:only-of-type {\n",
       "        vertical-align: middle;\n",
       "    }\n",
       "\n",
       "    .dataframe tbody tr th {\n",
       "        vertical-align: top;\n",
       "    }\n",
       "\n",
       "    .dataframe thead th {\n",
       "        text-align: right;\n",
       "    }\n",
       "</style>\n",
       "<table border=\"1\" class=\"dataframe\">\n",
       "  <thead>\n",
       "    <tr style=\"text-align: right;\">\n",
       "      <th></th>\n",
       "      <th>FileName</th>\n",
       "      <th>ClassName</th>\n",
       "    </tr>\n",
       "  </thead>\n",
       "  <tbody>\n",
       "    <tr>\n",
       "      <th>0</th>\n",
       "      <td>/home/abhinav/dance_recognition/augmented_data...</td>\n",
       "      <td>kuchipudi</td>\n",
       "    </tr>\n",
       "    <tr>\n",
       "      <th>1</th>\n",
       "      <td>/home/abhinav/dance_recognition/augmented_data...</td>\n",
       "      <td>kuchipudi</td>\n",
       "    </tr>\n",
       "    <tr>\n",
       "      <th>2</th>\n",
       "      <td>/home/abhinav/dance_recognition/augmented_data...</td>\n",
       "      <td>kuchipudi</td>\n",
       "    </tr>\n",
       "    <tr>\n",
       "      <th>3</th>\n",
       "      <td>/home/abhinav/dance_recognition/augmented_data...</td>\n",
       "      <td>kuchipudi</td>\n",
       "    </tr>\n",
       "    <tr>\n",
       "      <th>4</th>\n",
       "      <td>/home/abhinav/dance_recognition/augmented_data...</td>\n",
       "      <td>kuchipudi</td>\n",
       "    </tr>\n",
       "  </tbody>\n",
       "</table>\n",
       "</div>"
      ],
      "text/plain": [
       "                                            FileName  ClassName\n",
       "0  /home/abhinav/dance_recognition/augmented_data...  kuchipudi\n",
       "1  /home/abhinav/dance_recognition/augmented_data...  kuchipudi\n",
       "2  /home/abhinav/dance_recognition/augmented_data...  kuchipudi\n",
       "3  /home/abhinav/dance_recognition/augmented_data...  kuchipudi\n",
       "4  /home/abhinav/dance_recognition/augmented_data...  kuchipudi"
      ]
     },
     "execution_count": 17,
     "metadata": {},
     "output_type": "execute_result"
    }
   ],
   "source": [
    "data = pd.read_csv(os.path.join(os.getcwd(),\"train_augmented.csv\"))\n",
    "data.head()"
   ]
  },
  {
   "cell_type": "code",
   "execution_count": null,
   "metadata": {},
   "outputs": [],
   "source": []
  }
 ],
 "metadata": {
  "kernelspec": {
   "display_name": "Python 3",
   "language": "python",
   "name": "python3"
  },
  "language_info": {
   "codemirror_mode": {
    "name": "ipython",
    "version": 3
   },
   "file_extension": ".py",
   "mimetype": "text/x-python",
   "name": "python",
   "nbconvert_exporter": "python",
   "pygments_lexer": "ipython3",
   "version": "3.7.7"
  }
 },
 "nbformat": 4,
 "nbformat_minor": 4
}
